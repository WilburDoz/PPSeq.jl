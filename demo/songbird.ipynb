{
 "cells": [
  {
   "cell_type": "markdown",
   "metadata": {},
   "source": [
    "## Identifying Spike Sequences in Songbird HVC\n",
    "\n",
    "This notebook shows how to use this package to fit the sequence detection model described in:\n",
    "\n",
    "> Williams AH, Degleris A, Wang Y, Linderman SW (2020). [Point process models for sequence detection in high-dimensional neural spike trains](https://arxiv.org/abs/2010.04875). *NeurIPS 2020*, Vancouver, CA.\n",
    "\n",
    "The dataset analyzed in this notebook was originally described and published in:\n",
    "\n",
    "> Mackevicius EL, Bahle AH, Williams AH, Gu S, Denisenko NI, Goldman MS, Fee MS (2019). [Unsupervised discovery of temporal sequences in high-dimensional datasets, with applications to neuroscience](https://elifesciences.org/articles/38471). *Elife*, 8, e38471. [**[link to original dataset and code.]**](https://github.com/FeeLab/seqNMF)\n",
    "\n",
    "Note that these are deconvolved spikes from a calcium imaging experiment from one bird."
   ]
  },
  {
   "cell_type": "code",
   "execution_count": null,
   "metadata": {},
   "outputs": [],
   "source": [
    "# Import PPSeq\n",
    "import PPSeq\n",
    "const seq = PPSeq\n",
    "\n",
    "# Other Imports\n",
    "import PyPlot: plt\n",
    "import DelimitedFiles: readdlm\n",
    "import Random\n",
    "import StatsBase: quantile\n",
    "\n",
    "# Songbird metadata\n",
    "num_neurons = 75\n",
    "max_time = 22.2\n",
    "\n",
    "# Randomly permute neuron labels.\n",
    "# (This hides the sequences, to make things interesting.)\n",
    "_p = Random.randperm(num_neurons)\n",
    "\n",
    "# Load spikes.\n",
    "spikes = seq.Spike[]\n",
    "for (n, t) in eachrow(readdlm(\"data/songbird_spikes.txt\", '\\t', Float64, '\\n'))\n",
    "    push!(spikes, seq.Spike(_p[Int(n)], t))\n",
    "end"
   ]
  },
  {
   "cell_type": "markdown",
   "metadata": {},
   "source": [
    "## Plot a spike raster\n",
    "\n",
    "Some useful visualization functions are provided for you in `src/utils/visualization.jl`"
   ]
  },
  {
   "cell_type": "code",
   "execution_count": null,
   "metadata": {},
   "outputs": [],
   "source": [
    "fig = seq.plot_raster(spikes; color=\"k\") # returns matplotlib Figure\n",
    "fig.set_size_inches([7, 3]);"
   ]
  },
  {
   "cell_type": "markdown",
   "metadata": {},
   "source": [
    "## Specify PP-Seq model\n",
    "\n",
    "There are a lot of hyperparameters associated with the pp-Seq model and the MCMC inference procedure. To make things as simple as possible, we create a \"config dict\" which specifies them all in one place. The table below summarizes the model hyperparameters.\n",
    "\n",
    "| hyperparameter                | symbol         | Notes |\n",
    "|:------------------------------|:--------------:|:---------------------|\n",
    "| num_sequence_types            | $R$            | Number of unique sequence patterns\n",
    "| seq_type_conc_param           | $\\gamma$       | Specifies Dirichlet prior on sequence type probabilities\n",
    "| seq_event_rate                | $\\psi$         | Specifies homogeneous Poisson process for latent events\n",
    "| mean_event_amplitude          |  N/A           | Specifies $\\alpha$ and $\\beta$ (supp. eq. #) along with var_event_amplitude\n",
    "| var_event_amplitude           |  N/A           | Specifies $\\alpha$ and $\\beta$ (supp. eq. #) along with mean_event_amplitude\n",
    "| neuron_response_conc_param    | $\\varphi$      | Specifies Dirichlet prior on evoked response amplitudes in neural firing rate amplitudes\n",
    "| neuron_offset_pseudo_obs      | $\\kappa$       | Psuedo-observations on mean, Normal-Inverse-Chi-Squared prior\n",
    "| neuron_width_pseudo_obs       | $\\nu$          | Psuedo-observations on variance, Normal-Inverse-Chi-Squared prior \n",
    "| neuron_width_prior            | $\\sigma^2$     | Variance parameter on Normal-Inverse-Chi-Squared prior\n",
    "| mean_bkgd_spike_rate          | N/A            | Specifies the mean of Gamma prior on $\\lambda_\\varnothing$ (specifies $\\alpha_\\varnothing$ and $\\beta_\\varnothing$ along with var_bkgd_spike_rate)\n",
    "| var_bkgd_spike_rate          | N/A            | Specifies the variance of Gamma prior on $\\lambda_\\varnothing$ (specifies $\\alpha_\\varnothing$ and $\\beta_\\varnothing$ along with mean_bkgd_spike_rate)\n",
    "| bkgd_spikes_conc_param      | $\\gamma_\\varnothing$ | Specifies Dirichlet prior on relative background firing rates (supp. eq. #)"
   ]
  },
  {
   "cell_type": "code",
   "execution_count": null,
   "metadata": {},
   "outputs": [],
   "source": [
    "config = Dict(\n",
    "\n",
    "    # Model hyperparameters\n",
    "    :num_sequence_types =>  2,\n",
    "    :seq_type_conc_param => 1.0,\n",
    "    :seq_event_rate => 1.0,\n",
    "\n",
    "    :mean_event_amplitude => 100.0,\n",
    "    :var_event_amplitude => 1000.0,\n",
    "    \n",
    "    :neuron_response_conc_param => 0.1,\n",
    "    :neuron_offset_pseudo_obs => 1.0,\n",
    "    :neuron_width_pseudo_obs => 1.0,\n",
    "    :neuron_width_prior => 0.5,\n",
    "    \n",
    "    :num_warp_values => 1,\n",
    "    :max_warp => 1.0,\n",
    "    :warp_variance => 1.0,\n",
    "    :warp_type => 1,\n",
    "\n",
    "    :mean_bkgd_spike_rate => 30.0,\n",
    "    :var_bkgd_spike_rate => 30.0,\n",
    "    :bkgd_spikes_conc_param => 0.3,\n",
    "    :max_sequence_length => Inf,\n",
    "    \n",
    "    # MCMC Sampling parameters.\n",
    "    :num_anneals => 10,\n",
    "    :samples_per_anneal => 100,\n",
    "    :max_temperature => 40.0,\n",
    "    :save_every_during_anneal => 10,\n",
    "    :samples_after_anneal => 2000,\n",
    "    :save_every_after_anneal => 10,\n",
    "    :split_merge_moves_during_anneal => 10,\n",
    "    :split_merge_moves_after_anneal => 10,\n",
    "    :split_merge_window => 1.0,\n",
    "    \n",
    "    # Masking specific parameters\n",
    "    :are_we_masking => 0, # Binary var, 1 = masking\n",
    "    \n",
    "    # For training on some data and resampling on another set\n",
    "    :sacred_sequences => 0 # No sacred sequences here!\n",
    ");"
   ]
  },
  {
   "cell_type": "markdown",
   "metadata": {},
   "source": [
    "## Train PPSeq model\n",
    "\n",
    "The `easy_sample!(...)` function is defined in `src/algorithms/easy_sample.jl`. It uses an annealing procedure during the initial MCMC burn-in. See our paper for more details on the specifics of MCMC sampling (Williams et al., 2020)."
   ]
  },
  {
   "cell_type": "code",
   "execution_count": null,
   "metadata": {},
   "outputs": [],
   "source": [
    "# Initialize all spikes to background process.\n",
    "init_assignments = fill(-1, length(spikes))\n",
    "\n",
    "# Construct model struct (PPSeq instance).\n",
    "model = seq.construct_model(config, max_time, num_neurons)\n",
    "\n",
    "# Run Gibbs sampling with an initial annealing period.\n",
    "results = seq.easy_sample!(model, spikes, init_assignments, config);"
   ]
  },
  {
   "cell_type": "markdown",
   "metadata": {},
   "source": [
    "## Plot results"
   ]
  },
  {
   "cell_type": "markdown",
   "metadata": {},
   "source": [
    "#### Plot raster plot with labeled sequences"
   ]
  },
  {
   "cell_type": "code",
   "execution_count": null,
   "metadata": {},
   "outputs": [],
   "source": [
    "# Grab the final MCMC sample\n",
    "final_globals = results[:globals_hist][end]\n",
    "final_events = results[:latent_event_hist][end]\n",
    "final_assignments = results[:assignment_hist][:, end]\n",
    "\n",
    "# Helpful utility function that sorts the neurons to reveal sequences.\n",
    "neuron_ordering = seq.sortperm_neurons(final_globals)\n",
    "\n",
    "# Plot model-annotated raster.\n",
    "fig = seq.plot_raster(\n",
    "    spikes,\n",
    "    final_events,\n",
    "    final_assignments,\n",
    "    neuron_ordering;\n",
    "    color_cycle=[\"red\", \"blue\"] # colors for each sequence type can be modified.\n",
    ")\n",
    "fig.set_size_inches([7, 3]);"
   ]
  },
  {
   "cell_type": "markdown",
   "metadata": {},
   "source": [
    "#### Plot log-likelihood over MCMC samples\n",
    "\n",
    "The log-likelihoods during the annealing period are stored in `results[:anneal_log_p_hist]`.\n",
    "\n",
    "The log-likelihoods during the post-anneal period are stored in `results[:log_p_hist]`."
   ]
  },
  {
   "cell_type": "code",
   "execution_count": null,
   "metadata": {},
   "outputs": [],
   "source": [
    "seq.plot_log_likes(config, results);"
   ]
  },
  {
   "cell_type": "markdown",
   "metadata": {},
   "source": [
    "#### Plot number of latent events (i.e. number of sequences) over MCMC samples\n",
    "\n",
    "The latent events during the annealing period are stored in `results[:anneal_latent_event_hist]`.\n",
    "\n",
    "The log-likelihoods during the post-anneal period are stored in `results[:latent_event_hist]`."
   ]
  },
  {
   "cell_type": "code",
   "execution_count": null,
   "metadata": {},
   "outputs": [],
   "source": [
    "seq.plot_num_seq_events(config, results);"
   ]
  },
  {
   "cell_type": "markdown",
   "metadata": {},
   "source": [
    "### Plot Firing Rates\n",
    "\n",
    "Now we'll plot the firing rate estimate of the model on the last MCMC sample."
   ]
  },
  {
   "cell_type": "code",
   "execution_count": null,
   "metadata": {},
   "outputs": [],
   "source": [
    "# Create discrete time grid.\n",
    "num_timebins = 1000\n",
    "dt = max_time / num_timebins\n",
    "timebins = collect((0.5 * dt):dt:max_time)\n",
    "\n",
    "# Compute a matrix firing rates (num_neurons x num_timebins)\n",
    "F = seq.firing_rates(\n",
    "    final_globals,\n",
    "    final_events,\n",
    "    timebins\n",
    ")\n",
    "\n",
    "# Plot firing rates as a heatmap\n",
    "plt.imshow(F[neuron_ordering, :]; aspect=\"auto\", origin=\"lower\")\n",
    "plt.title(\"Firing Rates, last MCMC sample (spikes / second)\")\n",
    "plt.ylabel(\"Neurons\")\n",
    "plt.xlabel(\"timebins\")\n",
    "plt.colorbar();"
   ]
  },
  {
   "cell_type": "markdown",
   "metadata": {},
   "source": [
    "This is somewhat hard to interpret because neurons have very different peak firing rates. To see the sequences better, we can re-scale the firing rates to range between zero and one for each neuron."
   ]
  },
  {
   "cell_type": "code",
   "execution_count": null,
   "metadata": {},
   "outputs": [],
   "source": [
    "F_nrm = copy(F)\n",
    "for n in 1:num_neurons\n",
    "    F_nrm[n, :] .-= minimum(F[n, :])\n",
    "    F_nrm[n, :] ./= maximum(F[n, :])\n",
    "end\n",
    "\n",
    "plt.title(\"Firing Rates, last MCMC sample (normalized)\")\n",
    "plt.ylabel(\"Neurons\")\n",
    "plt.xlabel(\"timebins\")\n",
    "plt.imshow(F_nrm[neuron_ordering, :]; aspect=\"auto\", origin=\"lower\")\n",
    "plt.colorbar();"
   ]
  },
  {
   "cell_type": "markdown",
   "metadata": {},
   "source": [
    "### Plot Expected Firing Rates Under the Posterior\n",
    "\n",
    "Rather than just plotting the final sample, we can average the firing rate estimate over all MCMC samples in the post-annealing epoch."
   ]
  },
  {
   "cell_type": "code",
   "execution_count": null,
   "metadata": {},
   "outputs": [],
   "source": [
    "F_avg = zeros(num_neurons, num_timebins)\n",
    "\n",
    "for (G, E) in zip(results[:globals_hist], results[:latent_event_hist])\n",
    "    F_avg += seq.firing_rates(G, E, timebins)\n",
    "end\n",
    "F_avg ./= length(results[:globals_hist])\n",
    "\n",
    "# Plot average firing rates as a heatmap\n",
    "plt.imshow(F_avg[neuron_ordering, :]; aspect=\"auto\", origin=\"lower\")\n",
    "plt.title(\"Posterior Expected Firing Rates (spikes / second)\")\n",
    "plt.ylabel(\"Neurons\")\n",
    "plt.xlabel(\"timebins\")\n",
    "plt.colorbar();"
   ]
  },
  {
   "cell_type": "markdown",
   "metadata": {},
   "source": [
    "As before, this is somewhat difficult to visually inspect because the neurons have different firing rate magnitudes. Again, we can normalize the firing rates to range between zero and one."
   ]
  },
  {
   "cell_type": "code",
   "execution_count": null,
   "metadata": {},
   "outputs": [],
   "source": [
    "F_avg_nrm = copy(F_avg)\n",
    "for n in 1:num_neurons\n",
    "    F_avg_nrm[n, :] .-= minimum(F_avg[n, :])\n",
    "    F_avg_nrm[n, :] ./= maximum(F_avg[n, :])\n",
    "end\n",
    "\n",
    "# Plot average firing rates as a heatmap\n",
    "plt.imshow(F_avg_nrm[neuron_ordering, :]; aspect=\"auto\", origin=\"lower\")\n",
    "plt.title(\"Posterior Expected Firing Rates (normalized)\")\n",
    "plt.ylabel(\"Neurons\")\n",
    "plt.xlabel(\"timebins\")\n",
    "plt.colorbar();"
   ]
  }
 ],
 "metadata": {
  "kernelspec": {
   "display_name": "Julia 1.6.5",
   "language": "julia",
   "name": "julia-1.6"
  },
  "language_info": {
   "file_extension": ".jl",
   "mimetype": "application/julia",
   "name": "julia",
   "version": "1.6.5"
  }
 },
 "nbformat": 4,
 "nbformat_minor": 4
}
